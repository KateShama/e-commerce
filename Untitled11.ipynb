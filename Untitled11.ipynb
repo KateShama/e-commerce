{
 "cells": [
  {
   "cell_type": "code",
   "execution_count": 270,
   "id": "5d2da4be",
   "metadata": {},
   "outputs": [],
   "source": [
    "import numpy as np\n",
    "import pandas as pd\n",
    "import statistics\n",
    "import random"
   ]
  },
  {
   "cell_type": "code",
   "execution_count": 120,
   "id": "0be21b2d",
   "metadata": {},
   "outputs": [],
   "source": [
    "# Есть массив\n",
    "arr = [1,2,3,4,5,6,7,8,9]\n",
    "\n",
    "# Разделить его на 2 так\n",
    "# 1 3 5 7 9\n",
    "# 2 4 6 8"
   ]
  },
  {
   "cell_type": "code",
   "execution_count": 121,
   "id": "f551db57",
   "metadata": {},
   "outputs": [
    {
     "name": "stdout",
     "output_type": "stream",
     "text": [
      "[2, 4, 6, 8] [1, 3, 5, 7, 9]\n"
     ]
    }
   ],
   "source": [
    "h = [int(i) for i in arr if i % 2 == 0]\n",
    "h1 = [int(i) for i in arr if i % 2 != 0]\n",
    "print(h,h1)"
   ]
  },
  {
   "cell_type": "code",
   "execution_count": 122,
   "id": "d37d237b",
   "metadata": {},
   "outputs": [
    {
     "data": {
      "text/plain": [
       "([1, 3, 5, 7, 9], [2, 4, 6, 8])"
      ]
     },
     "execution_count": 122,
     "metadata": {},
     "output_type": "execute_result"
    }
   ],
   "source": [
    "r1 = arr[::2]\n",
    "r2 = arr[1::2]\n",
    "r1,r2"
   ]
  },
  {
   "cell_type": "code",
   "execution_count": 123,
   "id": "9e635b57",
   "metadata": {},
   "outputs": [],
   "source": [
    "arr = [ 4, 5, 3, 2, 6, 7, 2, 5 ]\n",
    "# Найти сумму всех элементов больше 4\n",
    "# Т.е. тут 23\n"
   ]
  },
  {
   "cell_type": "code",
   "execution_count": 124,
   "id": "73473cf4",
   "metadata": {},
   "outputs": [
    {
     "name": "stdout",
     "output_type": "stream",
     "text": [
      "23\n"
     ]
    }
   ],
   "source": [
    "print(sum(int(i) for i in arr if i>4 ))"
   ]
  },
  {
   "cell_type": "code",
   "execution_count": 125,
   "id": "c07ec896",
   "metadata": {},
   "outputs": [],
   "source": [
    "# Вывести все числа меньше 100, которые делятся на 3 в обратном порядке\n",
    "# 99, 96, 93 ... 3"
   ]
  },
  {
   "cell_type": "code",
   "execution_count": 126,
   "id": "f1989df4",
   "metadata": {},
   "outputs": [
    {
     "name": "stdout",
     "output_type": "stream",
     "text": [
      "[99, 96, 93, 90, 87, 84, 81, 78, 75, 72, 69, 66, 63, 60, 57, 54, 51, 48, 45, 42, 39, 36, 33, 30, 27, 24, 21, 18, 15, 12, 9, 6, 3]\n"
     ]
    }
   ],
   "source": [
    "print([int(i) for i in reversed(range(100)) if i % 3==0 and int(i)>0])"
   ]
  },
  {
   "cell_type": "code",
   "execution_count": 127,
   "id": "5d39a969",
   "metadata": {},
   "outputs": [],
   "source": [
    "arr = [1, 2, 3, 4, 5, 6, 7, 8, 9]\n",
    "\n",
    "# Преобразовать его в 2х мерный:\n",
    "#[[1, 2, 3],\n",
    "# [4, 5, 6],\n",
    "# [7, 8, 9]]"
   ]
  },
  {
   "cell_type": "code",
   "execution_count": 128,
   "id": "0bc0f113",
   "metadata": {},
   "outputs": [
    {
     "data": {
      "text/plain": [
       "array([[1, 2, 3],\n",
       "       [4, 5, 6],\n",
       "       [7, 8, 9]])"
      ]
     },
     "execution_count": 128,
     "metadata": {},
     "output_type": "execute_result"
    }
   ],
   "source": [
    "np.reshape(arr, (-1, 3))"
   ]
  },
  {
   "cell_type": "code",
   "execution_count": 138,
   "id": "9e62ede7",
   "metadata": {},
   "outputs": [],
   "source": [
    "arr = [1, 2, 3, 4, 5, 6, 7, 8]\n",
    "\n",
    "# Поменять местами каждые 2 элемента\n",
    "# arr = 2, 1, 4, 3, 6, 5, 8, 7\n",
    "# Усложнение, чтобы рабоатло с нечетным числом элементов так\n",
    "# arr = 2, 1, 4, 3, 6, 5, 8, 7, 9"
   ]
  },
  {
   "cell_type": "code",
   "execution_count": 139,
   "id": "1f007f2c",
   "metadata": {},
   "outputs": [
    {
     "data": {
      "text/plain": [
       "[2, 1, 4, 3, 6, 5, 8, 7]"
      ]
     },
     "execution_count": 139,
     "metadata": {},
     "output_type": "execute_result"
    }
   ],
   "source": [
    "arr[::2],arr[1::2] = arr[1::2],arr[::2]\n",
    "arr"
   ]
  },
  {
   "cell_type": "code",
   "execution_count": 140,
   "id": "489a6136",
   "metadata": {},
   "outputs": [],
   "source": [
    "arr = [1, 2, 3, 4, 5, 6, 7, 8, 9]"
   ]
  },
  {
   "cell_type": "code",
   "execution_count": 156,
   "id": "7346e763",
   "metadata": {},
   "outputs": [
    {
     "name": "stdout",
     "output_type": "stream",
     "text": [
      "[2, 1, 4, 3, 6, 5, 8, 7, 9]\n"
     ]
    }
   ],
   "source": [
    "for i in range(len(arr)-1,2):\n",
    "    arr[i], arr[i+1] = arr[i+1], arr[i]\n",
    "\n",
    "print(arr)"
   ]
  },
  {
   "cell_type": "code",
   "execution_count": 201,
   "id": "37b6de4c",
   "metadata": {},
   "outputs": [],
   "source": [
    "# array intersection\n",
    "arr1 = [5, 2, 4, 4 ]\n",
    "arr2 = [1, 5, 4, 3 ]\n",
    "\n",
    "# Найти пересечение массивов\n",
    "# 5, 4\n",
    "# Использовать Map или Set"
   ]
  },
  {
   "cell_type": "code",
   "execution_count": 184,
   "id": "6d9f89f2",
   "metadata": {},
   "outputs": [
    {
     "data": {
      "text/plain": [
       "[4, 5]"
      ]
     },
     "execution_count": 184,
     "metadata": {},
     "output_type": "execute_result"
    }
   ],
   "source": [
    "list(set(arr2)&set(arr1))"
   ]
  },
  {
   "cell_type": "code",
   "execution_count": 192,
   "id": "cff59215",
   "metadata": {},
   "outputs": [],
   "source": [
    "arr1 = [5, 2, 4, 4]\n",
    "arr2 = [1, 5, 4, 3]\n",
    "\n",
    "# Найти Уникальные элементы массивов\n",
    "# 1, 2, 3"
   ]
  },
  {
   "cell_type": "code",
   "execution_count": 195,
   "id": "d682a095",
   "metadata": {},
   "outputs": [
    {
     "data": {
      "text/plain": [
       "[1, 2, 3]"
      ]
     },
     "execution_count": 195,
     "metadata": {},
     "output_type": "execute_result"
    }
   ],
   "source": [
    "m =arr1+arr2\n",
    "[x for x in set(m) if m.count(x) == 1]"
   ]
  },
  {
   "cell_type": "code",
   "execution_count": 237,
   "id": "54865a41",
   "metadata": {},
   "outputs": [
    {
     "name": "stdout",
     "output_type": "stream",
     "text": [
      "Mew paw=1 tail=1\n"
     ]
    }
   ],
   "source": [
    "class Cat:\n",
    "    def say_name(self):\n",
    "        print(f\"Mew paw={self.paw} tail={self.tail}\")\n",
    "    def __init__(self, paw, tail):\n",
    "        self.paw = paw\n",
    "        self.tail = tail\n",
    "\n",
    "barsik = Cat(1,1)\n",
    "barsik.say_name()\n"
   ]
  },
  {
   "cell_type": "code",
   "execution_count": 235,
   "id": "2a2435b8",
   "metadata": {},
   "outputs": [],
   "source": [
    "paws = [1, 2, 3, 9]\n",
    "tails = [5, 6, 7, 9]\n",
    "\n",
    "# Создать массив кошек (Cats) куда слить вместе 2 массива\n",
    "# cats[0].Paw == 1, cats[0].Tail=5\n",
    "# cats[1].Paw == 2, cats[1].Tail=6\n",
    "# не очень поняла что долдно быть"
   ]
  },
  {
   "cell_type": "code",
   "execution_count": 238,
   "id": "db352971",
   "metadata": {},
   "outputs": [],
   "source": [
    "class Cat:\n",
    "    def __init__(self, paw, tail):\n",
    "        self.Paw = paw\n",
    "        self.Tail = tail\n",
    "cats = []\n",
    "for i in range(len(paws)):\n",
    "    cats.append(Cat(paws[i], tails[i]))"
   ]
  },
  {
   "cell_type": "code",
   "execution_count": 240,
   "id": "29a66c76",
   "metadata": {},
   "outputs": [
    {
     "name": "stdout",
     "output_type": "stream",
     "text": [
      "1 5\n",
      "2 6\n"
     ]
    }
   ],
   "source": [
    "print(cats[0].Paw, cats[0].Tail)  # Выведет \"1 5\"\n",
    "print(cats[1].Paw, cats[1].Tail)  # Выведет \"2 6\""
   ]
  },
  {
   "cell_type": "code",
   "execution_count": 227,
   "id": "d4484367",
   "metadata": {},
   "outputs": [],
   "source": [
    "arr = [1, 2, 3, 4, 5, 6, 7, 8, 9]\n",
    "# Есть отсортированный массив, найти медиану\n",
    "# Усложнение. Должно работать с\n",
    "arr2 = [1, 2, 3, 4, 5, 6, 7, 8]"
   ]
  },
  {
   "cell_type": "code",
   "execution_count": 231,
   "id": "5a2e3876",
   "metadata": {},
   "outputs": [
    {
     "data": {
      "text/plain": [
       "4.5"
      ]
     },
     "execution_count": 231,
     "metadata": {},
     "output_type": "execute_result"
    }
   ],
   "source": [
    "statistics.median(arr2)"
   ]
  },
  {
   "cell_type": "code",
   "execution_count": 250,
   "id": "476fc95f",
   "metadata": {},
   "outputs": [],
   "source": [
    "# Косынка!\n",
    "arr = [1, 2, 3, 4, 5, 6, 7, 8, 9, 10, 11, 12, 13]\n",
    "\n",
    "\n",
    "# i < len(arr)\n",
    "\n",
    "\n",
    "# Преобразовать его в массив массивов:\n",
    "# [1]\n",
    "# [2, 3]\n",
    "# [4, 5, 6]\n",
    "# [7, 8, 9, 10]\n",
    "# [11, 12, 13]    <- тут что осталось"
   ]
  },
  {
   "cell_type": "code",
   "execution_count": 251,
   "id": "5cd8df7c",
   "metadata": {},
   "outputs": [
    {
     "name": "stdout",
     "output_type": "stream",
     "text": [
      "[1]\n",
      "[2, 3]\n",
      "[4, 5, 6]\n",
      "[7, 8, 9, 10]\n",
      "[11, 12, 13]\n"
     ]
    }
   ],
   "source": [
    "result = []\n",
    "start_index = 0\n",
    "row_length = 1\n",
    "\n",
    "while start_index < len(arr):\n",
    "    row = arr[start_index:start_index+row_length]\n",
    "    result.append(row)\n",
    "    start_index += row_length\n",
    "    row_length += 1\n",
    "\n",
    "for row in result:\n",
    "    print(row)"
   ]
  },
  {
   "cell_type": "code",
   "execution_count": 259,
   "id": "cbccac22",
   "metadata": {},
   "outputs": [],
   "source": [
    "# Слайдер\n",
    "arr = [1, 2, 3, 4, 5, 6, 7, 8, 9]\n",
    "\n",
    "# 1. написать алгоритм, поторый берет первые n элементов маccива, вторые n и т.д.\n",
    "# n=4\n",
    "#  результат:\n",
    "# [[1, 2, 3, 4],\n",
    "#  [2, 3, 4, 5],\n",
    "#  [3, 4, 5, 6],\n",
    "#  ...\n",
    "#  [6, 7, 8, 9]]\n",
    "\n",
    "# 2. Написать функцию slide_arrays, которая возвращает такой результат для любого массива и n\n",
    "# slide_arrays(arr, 4)\n",
    "# Проверить, что:\n",
    "\n",
    "arr2 = [9, 5, 2, 5, 9]\n",
    "\n",
    "# slide_arrays(arr2, 4) выдаст\n",
    "# [[9, 5, 2, 5], [5, 2, 5, 9]]\n",
    "# slide_arrays(arr2, 10) выдаст\n",
    "# [[9, 5, 2, 5, 9]]\n",
    "# slide_arrays(arr2, 0) выдаст\n",
    "# [[]]\n",
    "# slide_arrays(arr2, -1) выдаст\n",
    "# \"heck you@!\""
   ]
  },
  {
   "cell_type": "code",
   "execution_count": 260,
   "id": "6de8a375",
   "metadata": {},
   "outputs": [
    {
     "data": {
      "text/plain": [
       "[[1, 2, 3, 4],\n",
       " [2, 3, 4, 5],\n",
       " [3, 4, 5, 6],\n",
       " [4, 5, 6, 7],\n",
       " [5, 6, 7, 8],\n",
       " [6, 7, 8, 9]]"
      ]
     },
     "execution_count": 260,
     "metadata": {},
     "output_type": "execute_result"
    }
   ],
   "source": [
    " [arr[i:i+4] for i in range(len(arr)-3)]\n",
    "\n"
   ]
  },
  {
   "cell_type": "code",
   "execution_count": 263,
   "id": "3ede2d60",
   "metadata": {},
   "outputs": [],
   "source": [
    "arr = [1, 5, 2, 6, 3, 7, 0, 9, 8, 5, 2]\n",
    "\n",
    "# Написать функцию cut_chunks(arr, n), которая разбивает массив на массивы по n элементов\n",
    "# cut_chunks(arr, 4)\n",
    "# [[1, 5, 2, 6],\n",
    "#  [3, 7, 0, 9]]\n",
    "# 8, 5, 2 - остаток, который выкинут тк.к. их не 4"
   ]
  },
  {
   "cell_type": "code",
   "execution_count": 268,
   "id": "f5faab4b",
   "metadata": {},
   "outputs": [
    {
     "data": {
      "text/plain": [
       "[[1, 5, 2, 6], [3, 7, 0, 9]]"
      ]
     },
     "execution_count": 268,
     "metadata": {},
     "output_type": "execute_result"
    }
   ],
   "source": [
    "def cut_chunks(arr, n):\n",
    "    result = []\n",
    "    for i in range(0, len(arr), n):\n",
    "        chunk = arr[i:i+n]\n",
    "        if len(chunk) == n:\n",
    "            result.append(chunk)\n",
    "    return result\n",
    "cut_chunks(arr, 4)"
   ]
  },
  {
   "cell_type": "code",
   "execution_count": 269,
   "id": "0f1d6d66",
   "metadata": {},
   "outputs": [],
   "source": [
    "# Перемешать карты\n",
    "# \"Карта\" - это число от 1 до 6, но оно по одному разу в колоде.\n",
    "# Раздать карты случайным образом. Например\n",
    "# [6, 5, 1, 2, 4, 3]\n",
    "# т.е. в массиве каждое число может встречаться только один раз"
   ]
  },
  {
   "cell_type": "code",
   "execution_count": 273,
   "id": "2de3cf92",
   "metadata": {},
   "outputs": [
    {
     "name": "stdout",
     "output_type": "stream",
     "text": [
      "[3, 1, 5, 6, 4, 2]\n"
     ]
    }
   ],
   "source": [
    "cards = list(range(1, 7))\n",
    "random.shuffle(cards)\n",
    "print(cards)"
   ]
  },
  {
   "cell_type": "code",
   "execution_count": 274,
   "id": "36fca0c6",
   "metadata": {},
   "outputs": [
    {
     "data": {
      "text/plain": [
       "[7, 5, 19, 13, 1]"
      ]
     },
     "execution_count": 274,
     "metadata": {},
     "output_type": "execute_result"
    }
   ],
   "source": [
    "arr = [5, 19, 13, 7, 1]\n",
    "random.shuffle(arr)\n",
    "arr"
   ]
  },
  {
   "cell_type": "code",
   "execution_count": 276,
   "id": "4d3a27f3",
   "metadata": {},
   "outputs": [
    {
     "name": "stdout",
     "output_type": "stream",
     "text": [
      "{'dog': 15, 'cat': 4, 'fox': 2}\n"
     ]
    }
   ],
   "source": [
    "names =   [\"dog\", \"cat\", \"fox\", \"dog\", \"dog\", \"cat\"]\n",
    "values =  [ 5,     3,     2,     6,     4,     1   ]\n",
    "# Найти сумму values для каждого слова \"dog\" = 15, \"cat\" = 4, \"fox\"= ...\n",
    "sums = {}\n",
    "for i in range(len(names)):   \n",
    "    if names[i] in sums:\n",
    "        sums[names[i]] += values[i]\n",
    "    else:\n",
    "        sums[names[i]] = values[i]\n",
    "\n",
    "print(sums)"
   ]
  },
  {
   "cell_type": "code",
   "execution_count": 277,
   "id": "277118b4",
   "metadata": {},
   "outputs": [
    {
     "name": "stdout",
     "output_type": "stream",
     "text": [
      "[1, 3, 5, 5, 7, 11, 13, 13, 19]\n"
     ]
    }
   ],
   "source": [
    "arr = [5, 19, 13, 7, 1, 5, 13, 11, 3]\n",
    "# Отсортировать массив (самостоятельно придумать какой-нибудь алгоритм)\n",
    "arr = sorted(arr)\n",
    "print(arr)"
   ]
  },
  {
   "cell_type": "code",
   "execution_count": 279,
   "id": "6d865050",
   "metadata": {},
   "outputs": [
    {
     "data": {
      "text/plain": [
       "['fox', 'cat', 'cat', 'dog', 'dog', 'rat']"
      ]
     },
     "execution_count": 279,
     "metadata": {},
     "output_type": "execute_result"
    }
   ],
   "source": [
    "names =  [\"dog\", \"cat\", \"fox\", \"rat\", \"dog\", \"cat\"]\n",
    "values = [ 5,     3,     2,     6,     4,     1   ]\n",
    "# Отсортировать имена в соответствии с цифрами в values\n",
    "# {\"cat\", \"fox\", \"cat\", \"dog\", \"dog\", \"rat\"}\n",
    "sorted(names, key=lambda x: values[names.index(x)])"
   ]
  },
  {
   "cell_type": "code",
   "execution_count": 282,
   "id": "cfae65bb",
   "metadata": {},
   "outputs": [],
   "source": [
    "cats = []\n",
    "cats.append(Cat(paw=9, tail=100))\n",
    "cats.append(Cat(paw=2, tail=500))\n",
    "cats.append(Cat(paw=2, tail=300))\n",
    "cats.append(Cat(paw=4, tail=200))\n",
    "cats.append(Cat(paw=7, tail=150))\n",
    "cats.append(Cat(paw=1, tail=200))\n",
    "\n",
    "# Отсортировать кошек по лапам\n",
    "# Отсортировать кошек по хвостам\n",
    "# Пользоваться чем угодно - встроенными функциями, stackoverflow"
   ]
  },
  {
   "cell_type": "code",
   "execution_count": 284,
   "id": "c31f3fda",
   "metadata": {},
   "outputs": [
    {
     "name": "stdout",
     "output_type": "stream",
     "text": [
      "[Cat(paw=1, tail=200), Cat(paw=2, tail=500), Cat(paw=2, tail=300), Cat(paw=4, tail=200), Cat(paw=7, tail=150), Cat(paw=9, tail=100)]\n"
     ]
    }
   ],
   "source": [
    "class Cat:\n",
    "    def __init__(self, paw, tail):\n",
    "        self.paw = paw\n",
    "        self.tail = tail\n",
    "\n",
    "    def __repr__(self):\n",
    "        return f\"Cat(paw={self.paw}, tail={self.tail})\"\n",
    "    \n",
    "def sort_by_paw(cat):\n",
    "    return cat.paw\n",
    "def sort_by_tail(cat):\n",
    "    return cat.tail\n",
    "\n",
    "cats.sort(key=sort_by_paw)\n",
    "print(cats)"
   ]
  },
  {
   "cell_type": "code",
   "execution_count": 286,
   "id": "fd906a57",
   "metadata": {},
   "outputs": [],
   "source": [
    "# Кодировка, раскодировка \n",
    "# Непонятное задание, но такая фигня везде используется в картинках, пикселах, байтстаффинг и т.д. \n",
    "\n",
    "# Есть 2-х мерный массив размером 3х3. В нем числа могут быть 0 и 1, например:\n",
    "# [[0 0 1],\n",
    "#  [1 0 0],\n",
    "#  [0 0 1]]\n",
    "\n",
    "# А в этом массиве закодировано, где в массиве 3х3 стоят 1\n",
    "arr = [1, 22, 10, 12]\n",
    "            \n",
    "# Каждое число в массиве arr, это где стоит 1 в массиве 3х3 \n",
    "# по следующему правилу: 10*строка + столбец\n",
    "# Например: 21 - строка индекс 2, колонка с индексом 1, т.е.\n",
    "# [1, 22, 10, 12] означает, что 3х3 выглядит так:\n",
    "# 0 1 0          потому что 1  - строка с индексом 0, колонка с индексом 1\n",
    "# 1 0 1          потому что 10 и 12 - строка с индексом 1, колонки с индексом 0 и 2\n",
    "# 0 0 1          потому что 22 - строка с индексом 2, колонка с индексом 2\n",
    "# Ну вот это надо программно записать"
   ]
  },
  {
   "cell_type": "code",
   "execution_count": 287,
   "id": "74999eb7",
   "metadata": {},
   "outputs": [
    {
     "name": "stdout",
     "output_type": "stream",
     "text": [
      "[[0, 1, 0], [1, 0, 1], [0, 0, 1]]\n"
     ]
    }
   ],
   "source": [
    "matrix = [[0] * 3 for _ in range(3)]  # Создаем матрицу из нулей\n",
    "for i in arr:\n",
    "    row, col = divmod(i, 10)  # Получаем строку и столбец элемента\n",
    "    matrix[row][col] = 1  # Заменяем элемент на 1\n",
    "print(matrix)"
   ]
  },
  {
   "cell_type": "code",
   "execution_count": 293,
   "id": "0f93a741",
   "metadata": {},
   "outputs": [],
   "source": [
    "# А теперь наоброт. Есть массив 3x3\n",
    "arr3x3 = [[0, 1, 0], \n",
    "          [1, 0, 1], \n",
    "          [0, 1, 0]]\n",
    "\n",
    "# Преобразовать в массив, где 10*строка + столбец, т.е. должно получиться\n",
    "# [1, 10, 12, 21]"
   ]
  },
  {
   "cell_type": "code",
   "execution_count": 294,
   "id": "cb4e4984",
   "metadata": {},
   "outputs": [
    {
     "name": "stdout",
     "output_type": "stream",
     "text": [
      "[1, 10, 12, 21]\n"
     ]
    }
   ],
   "source": [
    "result = []\n",
    "\n",
    "for i, row in enumerate(arr3x3):\n",
    "    for j, val in enumerate(row):\n",
    "        if val == 1:\n",
    "            result.append(10 * i + j)\n",
    "\n",
    "print(result) "
   ]
  },
  {
   "cell_type": "code",
   "execution_count": null,
   "id": "41333b46",
   "metadata": {},
   "outputs": [],
   "source": []
  }
 ],
 "metadata": {
  "kernelspec": {
   "display_name": "Python 3 (ipykernel)",
   "language": "python",
   "name": "python3"
  },
  "language_info": {
   "codemirror_mode": {
    "name": "ipython",
    "version": 3
   },
   "file_extension": ".py",
   "mimetype": "text/x-python",
   "name": "python",
   "nbconvert_exporter": "python",
   "pygments_lexer": "ipython3",
   "version": "3.9.12"
  }
 },
 "nbformat": 4,
 "nbformat_minor": 5
}
